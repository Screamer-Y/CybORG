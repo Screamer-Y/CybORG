{
 "cells": [
  {
   "cell_type": "code",
   "execution_count": 1,
   "metadata": {},
   "outputs": [],
   "source": [
    "import inspect\n",
    "from os.path import dirname\n",
    "from pprint import pprint\n",
    "from CybORG import CybORG\n",
    "from CybORG.Simulator.Scenarios.CFileReaderScenarioGenerator import FileReaderScenarioGenerator\n",
    "from CybORG.reproduction_env import CybORGExtension\n",
    "from CybORG.Simulator.Host import Status\n",
    "from CybORG.Shared.Observation import Observation"
   ]
  },
  {
   "cell_type": "code",
   "execution_count": 2,
   "metadata": {},
   "outputs": [],
   "source": [
    "dic = inspect.getfile(CybORG)\n",
    "scenario_path = dirname(dic) + f'/Simulator/Scenarios/scenario_files/ThreeWayScenario.yaml'\n",
    "vulhost_path = dirname(dic) + f'/Simulator/Scenarios/scenario_files/abstractvulnerability/test.yaml'\n",
    "sg = FileReaderScenarioGenerator(scenario_path)\n",
    "env = CybORGExtension(sg)\n",
    "env.load_host_absvul_map_from_yaml(vulhost_path)\n",
    "env.update_host_absvul_action_space()\n",
    "from CybORG.Simulator.Actions import *\n",
    "absvul1 = env.host_absvul_map['API_Gateway']['SB1-CVE-2018-11776']\n",
    "absvul2 = env.host_absvul_map['ServiceB1']['SB2-CVE-2016-4461']\n",
    "absvul3 = env.host_absvul_map['ServiceB2']['SB1-CVE-2017-12611']\n",
    "absvul4 = env.host_absvul_map['ServiceB1']['DB-CVE-2017-12611']\n",
    "results = env.reset(agent='Red')"
   ]
  },
  {
   "cell_type": "code",
   "execution_count": 3,
   "metadata": {},
   "outputs": [
    {
     "name": "stdout",
     "output_type": "stream",
     "text": [
      "Observation of 'API_Gateway' action history: {'success': True, 'failure': False}\n",
      "Observation of Discover Sequence: ['API_Gateway:0', 'ServiceB1:1']\n",
      "reward: 5.0\n"
     ]
    }
   ],
   "source": [
    "# API_Gateway -> Discover ServiceB1\n",
    "action1 = ExploitLocalVulnerability(session=0,agent='Red',hostname='API_Gateway',absvul=absvul1)\n",
    "results = env.step(action=action1,agent='Red')\n",
    "print(f\"Observation of 'API_Gateway' action history: {results.observation['action_history']['API_Gateway']['SB1-CVE-2018-11776']}\")\n",
    "print(f\"Observation of Discover Sequence: {[f'{k}:{v}' for k,v in results.observation['discovered_sequence'].items() if v!='Unknown']}\")\n",
    "print(f\"reward: {results.reward}\")\n",
    "# print(\"-\"*100)\n",
    "# # ServiceB1 -> Discover ServiceB2\n",
    "action2 = ExploitRemoteVulnerability(session=0,agent='Red',hostname='ServiceB1',absvul=absvul2)\n",
    "results = env.step(action=action2,agent=\"Red\")\n",
    "# pprint(results.observation)\n",
    "# pprint(results.reward)"
   ]
  },
  {
   "cell_type": "code",
   "execution_count": 9,
   "metadata": {},
   "outputs": [
    {
     "data": {
      "text/plain": [
       "{'success': <TrinaryEnum.UNKNOWN: 2>,\n",
       " 'running_status': {'API_Gateway': 1,\n",
       "  'ServiceA1': 1,\n",
       "  'ServiceA2': 1,\n",
       "  'ServiceB1': 1,\n",
       "  'ServiceB2': 1,\n",
       "  'ServiceC1': 1,\n",
       "  'ServiceC2': 1,\n",
       "  'DatabaseA': 1,\n",
       "  'DatabaseB': 2,\n",
       "  'DatabaseC': 1},\n",
       " 'suspicous': {'API_Gateway': 1,\n",
       "  'ServiceA1': 0,\n",
       "  'ServiceA2': 0,\n",
       "  'ServiceB1': 0,\n",
       "  'ServiceB2': 0,\n",
       "  'ServiceC1': 0,\n",
       "  'ServiceC2': 0,\n",
       "  'DatabaseA': 0,\n",
       "  'DatabaseB': 0,\n",
       "  'DatabaseC': 0},\n",
       " 'action_history': {'API_Gateway': {'rollback': {'success': False,\n",
       "    'failure': False},\n",
       "   'resotre': {'success': False, 'failure': False}},\n",
       "  'ServiceA1': {'rollback': {'success': False, 'failure': False},\n",
       "   'resotre': {'success': False, 'failure': False}},\n",
       "  'ServiceA2': {'rollback': {'success': False, 'failure': False},\n",
       "   'resotre': {'success': False, 'failure': False}},\n",
       "  'ServiceB1': {'rollback': {'success': False, 'failure': False},\n",
       "   'resotre': {'success': False, 'failure': False}},\n",
       "  'ServiceB2': {'rollback': {'success': False, 'failure': False},\n",
       "   'resotre': {'success': False, 'failure': False}},\n",
       "  'ServiceC1': {'rollback': {'success': False, 'failure': False},\n",
       "   'resotre': {'success': False, 'failure': False}},\n",
       "  'ServiceC2': {'rollback': {'success': False, 'failure': False},\n",
       "   'resotre': {'success': False, 'failure': False}},\n",
       "  'DatabaseA': {'rollback': {'success': False, 'failure': False},\n",
       "   'resotre': {'success': False, 'failure': False}},\n",
       "  'DatabaseB': {'rollback': {'success': False, 'failure': False},\n",
       "   'resotre': {'success': False, 'failure': False},\n",
       "   'restore': {'success': True, 'failure': False}},\n",
       "  'DatabaseC': {'rollback': {'success': False, 'failure': False},\n",
       "   'resotre': {'success': False, 'failure': False}}}}"
      ]
     },
     "execution_count": 9,
     "metadata": {},
     "output_type": "execute_result"
    }
   ],
   "source": [
    "results.observation"
   ]
  },
  {
   "cell_type": "code",
   "execution_count": 4,
   "metadata": {},
   "outputs": [
    {
     "name": "stdout",
     "output_type": "stream",
     "text": [
      "scan result: {'API_Gateway': 1, 'ServiceA1': 0, 'ServiceA2': 0, 'ServiceB1': 0, 'ServiceB2': 0, 'ServiceC1': 0, 'ServiceC2': 0, 'DatabaseA': 0, 'DatabaseB': 0, 'DatabaseC': 0}\n",
      "reward: 1.0\n"
     ]
    }
   ],
   "source": [
    "# Scan through hosts, found two or more suspicious hosts\n",
    "action = Scan(session=0, agent='Blue')\n",
    "results = env.step(action=action,agent=\"Blue\")\n",
    "print(f\"scan result: {results.observation['suspicous']}\")\n",
    "print(f\"reward: {results.reward}\")"
   ]
  },
  {
   "cell_type": "code",
   "execution_count": 5,
   "metadata": {},
   "outputs": [
    {
     "name": "stdout",
     "output_type": "stream",
     "text": [
      "Observation of Discover Sequence: ['API_Gateway:0', 'ServiceB1:1', 'ServiceB2:2', 'DatabaseB:3']\n",
      "reward: 100.0\n"
     ]
    }
   ],
   "source": [
    "# ServiceB2 -> Exploit ServiceB1(Reverse Session)\n",
    "action3 = ExploitRemoteVulnerability(session=0,agent='Red',hostname='ServiceB2',absvul=absvul3)\n",
    "results = env.step(action=action3,agent=\"Red\")\n",
    "# pprint(results.observation)\n",
    "# pprint(results.reward)\n",
    "# PrivilegeEscalate ServiceB1\n",
    "action4 = PrivilegeEscalate(hostname='ServiceB1',session=0,agent='Red')\n",
    "results = env.step(action=action4,agent=\"Red\")\n",
    "# pprint(results.observation)\n",
    "# pprint(results.reward)\n",
    "# ServiceB1 -> Exploit DatabaseB(Reverse Session)\n",
    "action5 = ExploitLocalVulnerability(session=0,agent='Red',hostname='ServiceB1',absvul=absvul4)\n",
    "results = env.step(action=action5,agent=\"Red\")\n",
    "# pprint(results.observation)\n",
    "# pprint(results.reward)\n",
    "# PrivilegeEscalate DatabaseB\n",
    "action6 = PrivilegeEscalate(hostname='DatabaseB',session=0,agent='Red')\n",
    "results = env.step(action=action6,agent=\"Red\")\n",
    "print(f\"Observation of Discover Sequence: {[f'{k}:{v}' for k,v in results.observation['discovered_sequence'].items() if v!='Unknown']}\")\n",
    "print(f\"reward: {results.reward}\")"
   ]
  },
  {
   "cell_type": "code",
   "execution_count": 6,
   "metadata": {},
   "outputs": [
    {
     "name": "stdout",
     "output_type": "stream",
     "text": [
      "status: 2\n",
      "reward: 99.0\n"
     ]
    }
   ],
   "source": [
    "# Combination of the Blue Actions\n",
    "# Restore the host with reverse session\n",
    "action = Restore(session=0,agent='Blue',hostname='DatabaseB')\n",
    "results = env.step(action=action,agent='Blue')\n",
    "print(f\"status: {results.observation['running_status']['DatabaseB']}\")\n",
    "print(f\"reward: {results.reward}\")\n",
    "# # Check if DatabaseB can be exploited again\n",
    "# action6 = PrivilegeEscalate(hostname='DatabaseB',session=0,agent='Red')\n",
    "# results = env.step(action=action6,agent=\"Red\")\n",
    "# pprint(results.observation)\n",
    "# print(\"-\"*100)\n",
    "# # rollback the vulnerability so DatabaseB won't be found\n",
    "# action = RollBackHost(session=0,agent='Blue',hostname='ServiceB1')\n",
    "# results = env.step(action=action,agent='Blue')\n",
    "# pprint(results.observation)\n",
    "# print(f\"how many step remain for reimagination:{env.environment_controller.state.hosts['DatabaseB'].reimage_step}\")"
   ]
  },
  {
   "cell_type": "code",
   "execution_count": null,
   "metadata": {},
   "outputs": [],
   "source": []
  }
 ],
 "metadata": {
  "kernelspec": {
   "display_name": "cyborg",
   "language": "python",
   "name": "python3"
  },
  "language_info": {
   "codemirror_mode": {
    "name": "ipython",
    "version": 3
   },
   "file_extension": ".py",
   "mimetype": "text/x-python",
   "name": "python",
   "nbconvert_exporter": "python",
   "pygments_lexer": "ipython3",
   "version": "3.9.17"
  },
  "orig_nbformat": 4
 },
 "nbformat": 4,
 "nbformat_minor": 2
}
