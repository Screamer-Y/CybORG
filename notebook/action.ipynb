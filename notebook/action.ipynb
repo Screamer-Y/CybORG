{
 "cells": [
  {
   "cell_type": "code",
   "execution_count": null,
   "metadata": {},
   "outputs": [],
   "source": [
    "import random\n",
    "import inspect\n",
    "from os.path import dirname\n",
    "from pprint import pprint\n",
    "\n",
    "from CybORG import CybORG\n",
    "from CybORG.Simulator.Scenarios import FileReaderScenarioGenerator\n",
    "\n",
    "path = inspect.getfile(CybORG)\n",
    "path = dirname(path) + f'/Simulator/Scenarios/scenario_files/Scenario1b.yaml'\n",
    "sg = FileReaderScenarioGenerator(path)\n",
    "env = CybORG(scenario_generator=sg)\n",
    "\n",
    "results = env.reset(agent='Blue')\n",
    "# pprint(results.observation)\n",
    "results = env.reset(agent='Red')\n",
    "action_space = results.action_space\n"
   ]
  },
  {
   "cell_type": "code",
   "execution_count": null,
   "metadata": {},
   "outputs": [],
   "source": [
    "for k,v in env.environment_controller.state.hosts.items():\n",
    "    # print(k,vars(vars(v)['interfaces'][0])['ip_address'])\n",
    "    print(k, v.interfaces[0].ip_address)"
   ]
  },
  {
   "cell_type": "code",
   "execution_count": 2,
   "metadata": {},
   "outputs": [],
   "source": [
    "from CybORG.Simulator.Actions import *\n",
    "actions = action_space['action']"
   ]
  },
  {
   "cell_type": "code",
   "execution_count": null,
   "metadata": {},
   "outputs": [],
   "source": [
    "subnets = action_space['subnet']\n",
    "known_subnets = [subnet for subnet in subnets if subnets[subnet]]\n",
    "subnet = known_subnets[0]\n",
    "action = DiscoverRemoteSystems(subnet = subnet, session=0, agent='Red')\n",
    "results = env.step(action=action,agent='Red')\n",
    "\n",
    "pprint(results.observation)"
   ]
  },
  {
   "cell_type": "code",
   "execution_count": null,
   "metadata": {},
   "outputs": [],
   "source": [
    "from ipaddress import IPv4Network\n",
    "subnets = results.action_space['subnet']\n",
    "known_subnets = [subnet for subnet in subnets if subnets[subnet]]\n",
    "ips = action_space['ip_address']\n",
    "known_ips = [ip for ip in ips if ips[ip]]\n",
    "# ip = known_ips[2]\n",
    "ip = env.environment_controller.state.hosts['User1'].interfaces[0].ip_address\n",
    "\n",
    "# pprint(known_subnets)\n",
    "# pprint(known_ips)\n",
    "pprint(ip)\n",
    "\n",
    "action = DiscoverNetworkServices(ip_address=ip,session=0,agent='Red')\n",
    "results = env.step(action=action,agent='Red')\n",
    "pprint(results.observation)"
   ]
  },
  {
   "cell_type": "code",
   "execution_count": null,
   "metadata": {},
   "outputs": [],
   "source": [
    "results.action_space['hostname']"
   ]
  },
  {
   "cell_type": "code",
   "execution_count": null,
   "metadata": {},
   "outputs": [],
   "source": [
    "action = ExploitRemoteService(ip_address=ip,session=0,agent='Red')\n",
    "\n",
    "results = env.step(action=action,agent='Red')\n",
    "pprint(results.observation)"
   ]
  },
  {
   "cell_type": "code",
   "execution_count": null,
   "metadata": {},
   "outputs": [],
   "source": [
    "hostname = results.observation[str(ip)]['System info']['Hostname']\n",
    "action = PrivilegeEscalate(hostname=hostname,session=0,agent='Red')\n",
    "\n",
    "results = env.step(action=action,agent='Red')\n",
    "pprint(results.observation)"
   ]
  },
  {
   "cell_type": "code",
   "execution_count": null,
   "metadata": {},
   "outputs": [],
   "source": [
    "pprint(env.environment_controller.state.hosts['User1'].info)"
   ]
  },
  {
   "cell_type": "code",
   "execution_count": null,
   "metadata": {},
   "outputs": [],
   "source": [
    "env.environment_controller.state.hosts['User2'].info"
   ]
  }
 ],
 "metadata": {
  "kernelspec": {
   "display_name": "cyborg",
   "language": "python",
   "name": "python3"
  },
  "language_info": {
   "codemirror_mode": {
    "name": "ipython",
    "version": 3
   },
   "file_extension": ".py",
   "mimetype": "text/x-python",
   "name": "python",
   "nbconvert_exporter": "python",
   "pygments_lexer": "ipython3",
   "version": "3.9.17"
  },
  "orig_nbformat": 4
 },
 "nbformat": 4,
 "nbformat_minor": 2
}
