{
 "cells": [
  {
   "cell_type": "code",
   "execution_count": 1,
   "metadata": {},
   "outputs": [],
   "source": [
    "import random\n",
    "import sys\n",
    "import inspect\n",
    "from os.path import dirname\n",
    "from pprint import pprint\n",
    "from CybORG import CybORG\n",
    "from CybORG.Simulator.Scenarios.CFileReaderScenarioGenerator import FileReaderScenarioGenerator\n",
    "from CybORG.reproduction_env import CybORGExtension"
   ]
  },
  {
   "cell_type": "code",
   "execution_count": 2,
   "metadata": {},
   "outputs": [
    {
     "name": "stderr",
     "output_type": "stream",
     "text": [
      "e:\\Anaconda3\\envs\\cyborg\\lib\\site-packages\\gym\\utils\\seeding.py:47: DeprecationWarning: \u001b[33mWARN: Function `rng.randint(low, [high, size, dtype])` is marked as deprecated and will be removed in the future. Please use `rng.integers(low, [high, size, dtype])` instead.\u001b[0m\n",
      "  deprecation(\n"
     ]
    }
   ],
   "source": [
    "dic = inspect.getfile(CybORG)\n",
    "scenario_path = dirname(dic) + f'/Simulator/Scenarios/scenario_files/ThreeWayScenario.yaml'\n",
    "vulhost_path = dirname(dic) + f'/Simulator/Scenarios/scenario_files/abstractvulnerability/test.yaml'\n",
    "sg = FileReaderScenarioGenerator(scenario_path)\n",
    "env = CybORG(sg)"
   ]
  },
  {
   "cell_type": "code",
   "execution_count": 35,
   "metadata": {},
   "outputs": [
    {
     "data": {
      "text/plain": [
       "0.95885872923095"
      ]
     },
     "execution_count": 35,
     "metadata": {},
     "output_type": "execute_result"
    }
   ],
   "source": [
    "env.environment_controller.state.np_random.random()"
   ]
  },
  {
   "cell_type": "code",
   "execution_count": 3,
   "metadata": {},
   "outputs": [],
   "source": [
    "extension = CybORGExtension(env)\n",
    "extension.load_host_absvul_map_from_yaml(vulhost_path)"
   ]
  },
  {
   "cell_type": "code",
   "execution_count": 4,
   "metadata": {},
   "outputs": [
    {
     "data": {
      "text/plain": [
       "{'Defender': <CybORG.Simulator.Host.Host at 0x285b715dca0>,\n",
       " 'API_Gateway': <CybORG.Simulator.Host.Host at 0x285b715dd60>,\n",
       " 'ServiceA1': <CybORG.Simulator.Host.Host at 0x285b71b5340>,\n",
       " 'ServiceA2': <CybORG.Simulator.Host.Host at 0x285b71b5130>,\n",
       " 'ServiceB1': <CybORG.Simulator.Host.Host at 0x285b71b5ac0>,\n",
       " 'ServiceB2': <CybORG.Simulator.Host.Host at 0x285b71b55e0>,\n",
       " 'ServiceC1': <CybORG.Simulator.Host.Host at 0x285b71c1a30>,\n",
       " 'ServiceC2': <CybORG.Simulator.Host.Host at 0x285b71c14c0>,\n",
       " 'DatabaseA': <CybORG.Simulator.Host.Host at 0x285b71c1580>,\n",
       " 'DatabaseB': <CybORG.Simulator.Host.Host at 0x285b71c1df0>,\n",
       " 'DatabaseC': <CybORG.Simulator.Host.Host at 0x285b71c1eb0>,\n",
       " 'Enterprise1_router': <CybORG.Simulator.Host.Host at 0x285b71e52e0>,\n",
       " 'Enterprise2_router': <CybORG.Simulator.Host.Host at 0x285b71e5370>,\n",
       " 'Enterprise3_router': <CybORG.Simulator.Host.Host at 0x285b71e5280>,\n",
       " 'User_router': <CybORG.Simulator.Host.Host at 0x285b71e5730>,\n",
       " 'Operation_router': <CybORG.Simulator.Host.Host at 0x285b71e57f0>}"
      ]
     },
     "execution_count": 4,
     "metadata": {},
     "output_type": "execute_result"
    }
   ],
   "source": [
    "env.environment_controller.state.hosts"
   ]
  },
  {
   "cell_type": "code",
   "execution_count": 5,
   "metadata": {},
   "outputs": [],
   "source": [
    "from CybORG.Simulator.Actions import *"
   ]
  },
  {
   "cell_type": "code",
   "execution_count": 7,
   "metadata": {},
   "outputs": [
    {
     "name": "stdout",
     "output_type": "stream",
     "text": [
      "{'API_Gateway': {'SA1-CVE-2018-11776': <CybORG.Simulator.AbstractVulnerability.AbstractVulnerability object at 0x000002396D8F1580>,\n",
      "                 'SB1-CVE-2018-11776': <CybORG.Simulator.AbstractVulnerability.AbstractVulnerability object at 0x000002395D57F370>,\n",
      "                 'SC1-CVE-2018-11776': <CybORG.Simulator.AbstractVulnerability.AbstractVulnerability object at 0x000002395D57F6A0>,\n",
      "                 'SC2-CVE-2018-11776': <CybORG.Simulator.AbstractVulnerability.AbstractVulnerability object at 0x000002395D53CD60>},\n",
      " 'ServiceA1': {'SA2-CVE-2016-4461': <CybORG.Simulator.AbstractVulnerability.AbstractVulnerability object at 0x000002396D998F70>},\n",
      " 'ServiceA2': {'DAC-CVE-2017-12611': <CybORG.Simulator.AbstractVulnerability.AbstractVulnerability object at 0x000002396D998E20>},\n",
      " 'ServiceB1': {'DB-CVE-2017-12611': <CybORG.Simulator.AbstractVulnerability.AbstractVulnerability object at 0x000002396D998EB0>,\n",
      "               'SB2-CVE-2016-4461': <CybORG.Simulator.AbstractVulnerability.AbstractVulnerability object at 0x000002396D998DC0>},\n",
      " 'ServiceB2': {'SB1-CVE-2017-12611': <CybORG.Simulator.AbstractVulnerability.AbstractVulnerability object at 0x000002396D998F10>},\n",
      " 'ServiceC1': {'DC-CVE-2017-12611': <CybORG.Simulator.AbstractVulnerability.AbstractVulnerability object at 0x000002396D998DF0>,\n",
      "               'SC2-CVE-2017-12611': <CybORG.Simulator.AbstractVulnerability.AbstractVulnerability object at 0x000002396D998D30>},\n",
      " 'ServiceC2': {'DC-CVE-2017-12611': <CybORG.Simulator.AbstractVulnerability.AbstractVulnerability object at 0x000002396D998C40>,\n",
      "               'SC1-CVE-2017-12611': <CybORG.Simulator.AbstractVulnerability.AbstractVulnerability object at 0x000002396D998CD0>}}\n"
     ]
    }
   ],
   "source": [
    "pprint(extension.host_absvul_map)\n",
    "absvul1 = extension.host_absvul_map['API_Gateway']['SB1-CVE-2018-11776']\n",
    "absvul2 = extension.host_absvul_map['ServiceB1']['SB2-CVE-2016-4461']\n",
    "absvul3 = extension.host_absvul_map['ServiceB2']['SB1-CVE-2017-12611']\n",
    "absvul4 = extension.host_absvul_map['ServiceB1']['DB-CVE-2017-12611']"
   ]
  },
  {
   "cell_type": "code",
   "execution_count": 8,
   "metadata": {},
   "outputs": [
    {
     "name": "stdout",
     "output_type": "stream",
     "text": [
      "{'10.0.18.188': {'Interface': [{'IP Address': IPv4Address('10.0.18.188'),\n",
      "                                'Subnet': IPv4Network('10.0.18.176/28')}]},\n",
      " 'success': <TrinaryEnum.TRUE: 1>}\n"
     ]
    }
   ],
   "source": [
    "results = env.reset(agent='Red')\n",
    "# API_Gateway -> Discover ServiceB1\n",
    "action1 = ExploitLocalVulnerability(session=0,agent='Red',target_host_id='API_Gateway',absvul=absvul1)\n",
    "results = env.step(action=action1,agent='Red')\n",
    "pprint(results.observation)"
   ]
  },
  {
   "cell_type": "code",
   "execution_count": 8,
   "metadata": {},
   "outputs": [
    {
     "name": "stdout",
     "output_type": "stream",
     "text": [
      "{'success': <TrinaryEnum.TRUE: 1>}\n"
     ]
    }
   ],
   "source": [
    "action7 = RollBackHost(session=0, agent='Blue', hostname='ServiceB1', host_absvul_map=extension.host_absvul_map)\n",
    "results = env.step(action=action7,agent=\"Blue\")\n",
    "pprint(results.observation)"
   ]
  },
  {
   "cell_type": "code",
   "execution_count": 9,
   "metadata": {},
   "outputs": [
    {
     "name": "stdout",
     "output_type": "stream",
     "text": [
      "{'10.0.18.182': {'Interface': [{'IP Address': IPv4Address('10.0.18.182'),\n",
      "                                'Subnet': IPv4Network('10.0.18.176/28')}]},\n",
      " 'success': <TrinaryEnum.TRUE: 1>}\n"
     ]
    }
   ],
   "source": [
    "# ServiceB1 -> Discover ServiceB2\n",
    "action2 = ExploitRemoteVulnerability(session=0,agent='Red',target_host_id='ServiceB1',absvul=absvul2)\n",
    "results = env.step(action=action2,agent=\"Red\")\n",
    "pprint(results.observation)"
   ]
  },
  {
   "cell_type": "code",
   "execution_count": 11,
   "metadata": {},
   "outputs": [
    {
     "name": "stdout",
     "output_type": "stream",
     "text": [
      "{'success': <TrinaryEnum.TRUE: 1>}\n"
     ]
    }
   ],
   "source": [
    "action7 = RollBackHost(session=0, agent='Blue', hostname='ServiceB1')\n",
    "results = env.step(action=action7,agent=\"Blue\")\n",
    "pprint(results.observation)"
   ]
  },
  {
   "cell_type": "code",
   "execution_count": 10,
   "metadata": {},
   "outputs": [
    {
     "name": "stdout",
     "output_type": "stream",
     "text": [
      "{'10.0.18.188': {'Interface': [{'IP Address': IPv4Address('10.0.18.188')}],\n",
      "                 'Processes': [{'Connections': [{'Status': <ProcessState.OPEN: 2>,\n",
      "                                                 'local_address': IPv4Address('10.0.18.188'),\n",
      "                                                 'local_port': 22}],\n",
      "                                'Process Type': <ProcessType.SSH: 2>},\n",
      "                               {'Connections': [{'local_address': IPv4Address('10.0.18.188'),\n",
      "                                                 'local_port': 22,\n",
      "                                                 'remote_address': IPv4Address('10.0.49.215'),\n",
      "                                                 'remote_port': 49480}],\n",
      "                                'Process Type': <ProcessType.SSH: 2>}],\n",
      "                 'Sessions': [{'Agent': 'Red',\n",
      "                               'ID': 1,\n",
      "                               'Type': <SessionType.SSH: 2>,\n",
      "                               'Username': 'vagrant'}],\n",
      "                 'System info': {'Hostname': 'ServiceB1',\n",
      "                                 'OSType': <OperatingSystemType.WINDOWS: 2>}},\n",
      " '10.0.49.215': {'Interface': [{'IP Address': IPv4Address('10.0.49.215')}],\n",
      "                 'Processes': [{'Connections': [{'local_address': IPv4Address('10.0.49.215'),\n",
      "                                                 'local_port': 49480,\n",
      "                                                 'remote_address': IPv4Address('10.0.18.188'),\n",
      "                                                 'remote_port': 22}]}]},\n",
      " 'success': <TrinaryEnum.TRUE: 1>}\n"
     ]
    }
   ],
   "source": [
    "# ServiceB2 -> Exploit ServiceB1(Reverse Session)\n",
    "action3 = ExploitRemoteVulnerability(session=0,agent='Red',target_host_id='ServiceB2',absvul=absvul3)\n",
    "results = env.step(action=action3,agent=\"Red\")\n",
    "pprint(results.observation)"
   ]
  },
  {
   "cell_type": "code",
   "execution_count": 9,
   "metadata": {},
   "outputs": [
    {
     "name": "stdout",
     "output_type": "stream",
     "text": [
      "{'ServiceB1': {'Sessions': [{'Agent': 'Red',\n",
      "                             'ID': 1,\n",
      "                             'Type': <SessionType.SSH: 2>,\n",
      "                             'Username': 'SYSTEM'}]},\n",
      " 'success': <TrinaryEnum.TRUE: 1>}\n"
     ]
    }
   ],
   "source": [
    "# PrivilegeEscalate ServiceB1\n",
    "action4 = PrivilegeEscalate(hostname='ServiceB1',session=0,agent='Red')\n",
    "results = env.step(action=action4,agent=\"Red\")\n",
    "pprint(results.observation)"
   ]
  },
  {
   "cell_type": "code",
   "execution_count": 10,
   "metadata": {},
   "outputs": [
    {
     "name": "stdout",
     "output_type": "stream",
     "text": [
      "{'10.0.225.122': {'Interface': [{'IP Address': IPv4Address('10.0.225.122')}],\n",
      "                  'Processes': [{'Connections': [{'Status': <ProcessState.OPEN: 2>,\n",
      "                                                  'local_address': IPv4Address('10.0.225.122'),\n",
      "                                                  'local_port': 22}],\n",
      "                                 'Process Type': <ProcessType.SSH: 2>},\n",
      "                                {'Connections': [{'local_address': IPv4Address('10.0.225.122'),\n",
      "                                                  'local_port': 22,\n",
      "                                                  'remote_address': IPv4Address('10.0.39.82'),\n",
      "                                                  'remote_port': 52764}],\n",
      "                                 'Process Type': <ProcessType.SSH: 2>}],\n",
      "                  'Sessions': [{'Agent': 'Red',\n",
      "                                'ID': 2,\n",
      "                                'Type': <SessionType.SSH: 2>,\n",
      "                                'Username': 'vagrant'}],\n",
      "                  'System info': {'Hostname': 'DatabaseB',\n",
      "                                  'OSType': <OperatingSystemType.WINDOWS: 2>}},\n",
      " '10.0.39.82': {'Interface': [{'IP Address': IPv4Address('10.0.39.82')}],\n",
      "                'Processes': [{'Connections': [{'local_address': IPv4Address('10.0.39.82'),\n",
      "                                                'local_port': 52764,\n",
      "                                                'remote_address': IPv4Address('10.0.225.122'),\n",
      "                                                'remote_port': 22}]}]},\n",
      " 'success': <TrinaryEnum.TRUE: 1>}\n"
     ]
    }
   ],
   "source": [
    "# ServiceB1 -> Exploit DatabaseB(Reverse Session)\n",
    "action5 = ExploitLocalVulnerability(session=0,agent='Red',target_host_id='ServiceB1',absvul=absvul4)\n",
    "results = env.step(action=action5,agent=\"Red\")\n",
    "pprint(results.observation)"
   ]
  },
  {
   "cell_type": "code",
   "execution_count": 11,
   "metadata": {},
   "outputs": [
    {
     "name": "stdout",
     "output_type": "stream",
     "text": [
      "{'DatabaseB': {'Sessions': [{'Agent': 'Red',\n",
      "                             'ID': 2,\n",
      "                             'Type': <SessionType.SSH: 2>,\n",
      "                             'Username': 'SYSTEM'}]},\n",
      " 'success': <TrinaryEnum.TRUE: 1>}\n"
     ]
    }
   ],
   "source": [
    "# PrivilegeEscalate DatabaseB\n",
    "action6 = PrivilegeEscalate(hostname='DatabaseB',session=0,agent='Red')\n",
    "results = env.step(action=action6,agent=\"Red\")\n",
    "pprint(results.observation)"
   ]
  },
  {
   "cell_type": "code",
   "execution_count": null,
   "metadata": {},
   "outputs": [],
   "source": []
  },
  {
   "cell_type": "code",
   "execution_count": null,
   "metadata": {},
   "outputs": [],
   "source": []
  }
 ],
 "metadata": {
  "kernelspec": {
   "display_name": "cyborg",
   "language": "python",
   "name": "python3"
  },
  "language_info": {
   "codemirror_mode": {
    "name": "ipython",
    "version": 3
   },
   "file_extension": ".py",
   "mimetype": "text/x-python",
   "name": "python",
   "nbconvert_exporter": "python",
   "pygments_lexer": "ipython3",
   "version": "3.9.17"
  },
  "orig_nbformat": 4
 },
 "nbformat": 4,
 "nbformat_minor": 2
}
